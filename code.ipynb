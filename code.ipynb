{
  "cells": [
    {
      "cell_type": "markdown",
      "metadata": {
        "id": "view-in-github",
        "colab_type": "text"
      },
      "source": [
        "<a href=\"https://colab.research.google.com/github/Znerf/diabetes-detection/blob/main/code.ipynb\" target=\"_parent\"><img src=\"https://colab.research.google.com/assets/colab-badge.svg\" alt=\"Open In Colab\"/></a>"
      ]
    },
    {
      "cell_type": "code",
      "execution_count": null,
      "metadata": {
        "id": "9bSbgepCTznL"
      },
      "outputs": [],
      "source": [
        "Hi"
      ]
    },
    {
      "cell_type": "code",
      "source": [
        "!git config --global user.email \"znerfii.a1@gmail.com\"\n",
        "!git config --global user.name \"Sagar Shrestha\"\n",
        "from google.colab import auth\n",
        "auth.authenticate_user()\n",
        "!git config --global credential.helper store"
      ],
      "metadata": {
        "id": "5geV61CMW-HQ"
      },
      "execution_count": 2,
      "outputs": []
    },
    {
      "cell_type": "code",
      "source": [
        "!git clone git@github.com:Znerf/diabetes-detection.git\n",
        "\n"
      ],
      "metadata": {
        "id": "ciz5jgNfXWOC",
        "outputId": "f659fc93-d7b4-416c-d7a9-73a369aeb55c",
        "colab": {
          "base_uri": "https://localhost:8080/"
        }
      },
      "execution_count": 4,
      "outputs": [
        {
          "output_type": "stream",
          "name": "stdout",
          "text": [
            "Cloning into 'diabetes-detection'...\n",
            "Host key verification failed.\r\n",
            "fatal: Could not read from remote repository.\n",
            "\n",
            "Please make sure you have the correct access rights\n",
            "and the repository exists.\n"
          ]
        }
      ]
    },
    {
      "cell_type": "code",
      "source": [
        "!ls"
      ],
      "metadata": {
        "id": "F5idfJpTXX2Q",
        "outputId": "19a314be-86c6-44a4-9fb9-973ad21d4731",
        "colab": {
          "base_uri": "https://localhost:8080/"
        }
      },
      "execution_count": 5,
      "outputs": [
        {
          "output_type": "stream",
          "name": "stdout",
          "text": [
            "sample_data\n"
          ]
        }
      ]
    }
  ],
  "metadata": {
    "language_info": {
      "name": "python"
    },
    "colab": {
      "provenance": [],
      "include_colab_link": true
    },
    "kernelspec": {
      "name": "python3",
      "display_name": "Python 3"
    }
  },
  "nbformat": 4,
  "nbformat_minor": 0
}